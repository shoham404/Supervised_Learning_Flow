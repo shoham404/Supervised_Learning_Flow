{
 "cells": [
  {
   "cell_type": "markdown",
   "metadata": {},
   "source": [
    "# Assignment2 - Supervised Learning flow"
   ]
  },
  {
   "cell_type": "markdown",
   "metadata": {},
   "source": [
    "# Part 1 - Student details:\n",
    "* Please write the First Name and last 4 digits of the i.d. for each student. For example:\n",
    "<pre>Israel 9812</pre>"
   ]
  },
  {
   "cell_type": "code",
   "execution_count": 5,
   "metadata": {
    "collapsed": true
   },
   "outputs": [],
   "source": [
    "import pandas as pd\n",
    "import seaborn as sns\n",
    "import matplotlib.pyplot as plt\n",
    "from IPython.display import Markdown, display\n",
    "import numpy as np\n",
    "from sklearn.model_selection import GridSearchCV\n",
    "from sklearn.pipeline import Pipeline\n",
    "from sklearn.preprocessing import StandardScaler, PolynomialFeatures\n",
    "from sklearn.svm import SVC\n",
    "from sklearn.naive_bayes import GaussianNB\n",
    "from sklearn.metrics import f1_score, make_scorer\n",
    "import pandas as pd\n",
    "import numpy as np\n",
    "\n",
    "\n"
   ]
  },
  {
   "cell_type": "code",
   "execution_count": 6,
   "metadata": {},
   "outputs": [
    {
     "data": {
      "text/markdown": [
       "### Train set - first 5 rows:\n"
      ],
      "text/plain": [
       "<IPython.core.display.Markdown object>"
      ]
     },
     "metadata": {},
     "output_type": "display_data"
    },
    {
     "name": "stdout",
     "output_type": "stream",
     "text": [
      "   mean radius  mean texture  mean perimeter  mean area  mean smoothness  \\\n",
      "0       13.170         18.66           85.98      534.6          0.11580   \n",
      "1        9.667         18.49           61.49      289.1          0.08946   \n",
      "2       20.090         23.86          134.70     1247.0          0.10800   \n",
      "3        8.950         15.76           58.74      245.2          0.09462   \n",
      "4       18.030         16.85          117.50      990.0          0.08947   \n",
      "\n",
      "   mean compactness  mean concavity  mean concave points  mean symmetry  \\\n",
      "0           0.12310         0.12260              0.07340         0.2128   \n",
      "1           0.06258         0.02948              0.01514         0.2238   \n",
      "2           0.18380         0.22830              0.12800         0.2249   \n",
      "3           0.12430         0.09263              0.02308         0.1305   \n",
      "4           0.12320         0.10900              0.06254         0.1720   \n",
      "\n",
      "   mean fractal dimension  ...  worst texture  worst perimeter  worst area  \\\n",
      "0                 0.06777  ...          27.95           102.80       759.4   \n",
      "1                 0.06413  ...          25.62            70.88       385.2   \n",
      "2                 0.07469  ...          29.43           158.80      1696.0   \n",
      "3                 0.07163  ...          17.07            63.34       270.0   \n",
      "4                 0.05780  ...          22.02           133.30      1292.0   \n",
      "\n",
      "   worst smoothness  worst compactness  worst concavity  worst concave points  \\\n",
      "0            0.1786             0.4166           0.5006               0.20880   \n",
      "1            0.1234             0.1542           0.1277               0.06560   \n",
      "2            0.1347             0.3391           0.4932               0.19230   \n",
      "3            0.1179             0.1879           0.1544               0.03846   \n",
      "4            0.1263             0.2666           0.4290               0.15350   \n",
      "\n",
      "   worst symmetry  worst fractal dimension  target  \n",
      "0          0.3900                  0.11790       0  \n",
      "1          0.3174                  0.08524       1  \n",
      "2          0.3294                  0.09469       0  \n",
      "3          0.1652                  0.07722       1  \n",
      "4          0.2842                  0.08225       0  \n",
      "\n",
      "[5 rows x 31 columns]\n"
     ]
    },
    {
     "data": {
      "text/markdown": [
       "### Test set - first 5 rows:\n"
      ],
      "text/plain": [
       "<IPython.core.display.Markdown object>"
      ]
     },
     "metadata": {},
     "output_type": "display_data"
    },
    {
     "name": "stdout",
     "output_type": "stream",
     "text": [
      "   mean radius  mean texture  mean perimeter  mean area  mean smoothness  \\\n",
      "0       16.170         16.07          106.30      788.5          0.09880   \n",
      "1       14.580         13.66           94.29      658.8          0.09832   \n",
      "2       18.820         21.97          123.70     1110.0          0.10180   \n",
      "3        8.196         16.84           51.71      201.9          0.08600   \n",
      "4       12.940         16.17           83.18      507.6          0.09879   \n",
      "\n",
      "   mean compactness  mean concavity  mean concave points  mean symmetry  \\\n",
      "0           0.14380         0.06651             0.053970         0.1990   \n",
      "1           0.08918         0.08222             0.043490         0.1739   \n",
      "2           0.13890         0.15940             0.087440         0.1943   \n",
      "3           0.05943         0.01588             0.005917         0.1769   \n",
      "4           0.08836         0.03296             0.023900         0.1735   \n",
      "\n",
      "   mean fractal dimension  ...  worst texture  worst perimeter  worst area  \\\n",
      "0                 0.06572  ...          19.14           113.10       861.5   \n",
      "1                 0.05640  ...          17.24           108.50       862.0   \n",
      "2                 0.06132  ...          30.93           145.30      1603.0   \n",
      "3                 0.06503  ...          21.96            57.26       242.2   \n",
      "4                 0.06200  ...          23.02            89.69       580.9   \n",
      "\n",
      "   worst smoothness  worst compactness  worst concavity  worst concave points  \\\n",
      "0            0.1235             0.2550           0.2114               0.12510   \n",
      "1            0.1223             0.1928           0.2492               0.09186   \n",
      "2            0.1390             0.3463           0.3912               0.17080   \n",
      "3            0.1297             0.1357           0.0688               0.02564   \n",
      "4            0.1172             0.1958           0.1810               0.08388   \n",
      "\n",
      "   worst symmetry  worst fractal dimension  target  \n",
      "0          0.3153                  0.08960       1  \n",
      "1          0.2626                  0.07048       1  \n",
      "2          0.3007                  0.08314       0  \n",
      "3          0.3105                  0.07409       1  \n",
      "4          0.3297                  0.07834       1  \n",
      "\n",
      "[5 rows x 31 columns]\n"
     ]
    },
    {
     "data": {
      "text/markdown": [
       "### Descriptive statistics for the train set:\n"
      ],
      "text/plain": [
       "<IPython.core.display.Markdown object>"
      ]
     },
     "metadata": {},
     "output_type": "display_data"
    },
    {
     "name": "stdout",
     "output_type": "stream",
     "text": [
      "       mean radius  mean texture  mean perimeter    mean area  \\\n",
      "count   455.000000    455.000000      455.000000   455.000000   \n",
      "mean     14.257910     19.482835       92.876220   668.580440   \n",
      "std       3.613344      4.261633       24.922646   364.587131   \n",
      "min       6.981000     10.380000       43.790000   143.500000   \n",
      "25%      11.725000     16.390000       75.265000   422.300000   \n",
      "50%      13.460000     19.020000       87.160000   559.200000   \n",
      "75%      16.150000     21.960000      106.850000   807.450000   \n",
      "max      28.110000     39.280000      188.500000  2501.000000   \n",
      "\n",
      "       mean smoothness  mean compactness  mean concavity  mean concave points  \\\n",
      "count       455.000000        455.000000      455.000000           455.000000   \n",
      "mean          0.096224          0.105452        0.090853             0.050013   \n",
      "std           0.013793          0.053892        0.081118             0.039727   \n",
      "min           0.052630          0.019380        0.000000             0.000000   \n",
      "25%           0.086210          0.065600        0.029700             0.020610   \n",
      "50%           0.095090          0.094530        0.063350             0.033340   \n",
      "75%           0.105000          0.130150        0.134150             0.077440   \n",
      "max           0.144700          0.345400        0.426800             0.201200   \n",
      "\n",
      "       mean symmetry  mean fractal dimension  ...  worst texture  \\\n",
      "count     455.000000              455.000000  ...     455.000000   \n",
      "mean        0.181970                0.062671  ...      25.905626   \n",
      "std         0.027895                0.006930  ...       6.149887   \n",
      "min         0.116700                0.049960  ...      12.490000   \n",
      "25%         0.162000                0.057660  ...      21.355000   \n",
      "50%         0.179400                0.061400  ...      25.500000   \n",
      "75%         0.195950                0.066180  ...      30.285000   \n",
      "max         0.304000                0.095750  ...      49.540000   \n",
      "\n",
      "       worst perimeter   worst area  worst smoothness  worst compactness  \\\n",
      "count       455.000000   455.000000        455.000000         455.000000   \n",
      "mean        108.558462   903.095165          0.132501           0.257053   \n",
      "std          34.615237   594.101449          0.022603           0.159287   \n",
      "min          50.410000   185.200000          0.081250           0.034320   \n",
      "25%          84.405000   516.450000          0.116200           0.147750   \n",
      "50%          97.670000   697.700000          0.131200           0.216700   \n",
      "75%         127.750000  1151.500000          0.146400           0.341600   \n",
      "max         251.200000  4254.000000          0.222600           1.058000   \n",
      "\n",
      "       worst concavity  worst concave points  worst symmetry  \\\n",
      "count       455.000000            455.000000      455.000000   \n",
      "mean          0.276415              0.116064        0.290950   \n",
      "std           0.208508              0.065882        0.061539   \n",
      "min           0.000000              0.000000        0.156500   \n",
      "25%           0.115450              0.065280        0.251000   \n",
      "50%           0.232200              0.101200        0.282200   \n",
      "75%           0.385300              0.161950        0.319600   \n",
      "max           1.170000              0.291000        0.577400   \n",
      "\n",
      "       worst fractal dimension      target  \n",
      "count               455.000000  455.000000  \n",
      "mean                  0.083924    0.608791  \n",
      "std                   0.018236    0.488558  \n",
      "min                   0.055040    0.000000  \n",
      "25%                   0.071250    0.000000  \n",
      "50%                   0.079480    1.000000  \n",
      "75%                   0.092130    1.000000  \n",
      "max                   0.207500    1.000000  \n",
      "\n",
      "[8 rows x 31 columns]\n"
     ]
    },
    {
     "data": {
      "text/markdown": [
       "### Descriptive statistics for the test set:\n"
      ],
      "text/plain": [
       "<IPython.core.display.Markdown object>"
      ]
     },
     "metadata": {},
     "output_type": "display_data"
    },
    {
     "name": "stdout",
     "output_type": "stream",
     "text": [
      "       mean radius  mean texture  mean perimeter    mean area  \\\n",
      "count   114.000000    114.000000      114.000000   114.000000   \n",
      "mean     13.605965     18.518596       88.348246   600.243860   \n",
      "std       3.102470      4.389544       21.349267   291.016495   \n",
      "min       8.196000      9.710000       51.710000   201.900000   \n",
      "25%      11.472500     15.472500       74.425000   405.600000   \n",
      "50%      13.080000     18.060000       84.290000   517.250000   \n",
      "75%      14.957500     21.127500       96.645000   686.650000   \n",
      "max      23.290000     30.720000      158.900000  1685.000000   \n",
      "\n",
      "       mean smoothness  mean compactness  mean concavity  mean concave points  \\\n",
      "count       114.000000        114.000000      114.000000           114.000000   \n",
      "mean          0.096905          0.099907        0.080602             0.044554   \n",
      "std           0.015151          0.048234        0.073645             0.034689   \n",
      "min           0.068280          0.023440        0.000000             0.000000   \n",
      "25%           0.086773          0.063600        0.027387             0.018790   \n",
      "50%           0.097810          0.085730        0.057550             0.034975   \n",
      "75%           0.106475          0.131450        0.112750             0.063698   \n",
      "max           0.163400          0.283900        0.352300             0.162000   \n",
      "\n",
      "       mean symmetry  mean fractal dimension  ...  worst texture  \\\n",
      "count     114.000000              114.000000  ...     114.000000   \n",
      "mean        0.177938                0.063302  ...      24.765614   \n",
      "std         0.025262                0.007571  ...       6.073141   \n",
      "min         0.106000                0.051850  ...      12.020000   \n",
      "25%         0.161625                0.058833  ...      20.245000   \n",
      "50%         0.178100                0.062385  ...      24.605000   \n",
      "75%         0.195175                0.066047  ...      28.630000   \n",
      "max         0.259700                0.097440  ...      41.610000   \n",
      "\n",
      "       worst perimeter   worst area  worst smoothness  worst compactness  \\\n",
      "count       114.000000   114.000000        114.000000         114.000000   \n",
      "mean        102.083596   790.732456          0.131840           0.243136   \n",
      "std          28.770546   448.536271          0.023822           0.149455   \n",
      "min          56.650000   240.100000          0.071170           0.027290   \n",
      "25%          82.735000   511.000000          0.117750           0.142575   \n",
      "50%          96.675000   651.250000          0.131850           0.202300   \n",
      "75%         113.875000   902.025000          0.143900           0.308175   \n",
      "max         179.100000  2215.000000          0.209800           0.866300   \n",
      "\n",
      "       worst concavity  worst concave points  worst symmetry  \\\n",
      "count       114.000000            114.000000      114.000000   \n",
      "mean          0.255321              0.108786        0.286587   \n",
      "std           0.209155              0.065094        0.063315   \n",
      "min           0.000000              0.000000        0.156600   \n",
      "25%           0.110050              0.059515        0.247275   \n",
      "50%           0.193350              0.097305        0.281650   \n",
      "75%           0.380150              0.156875        0.311200   \n",
      "max           1.252000              0.273300        0.663800   \n",
      "\n",
      "       worst fractal dimension      target  \n",
      "count               114.000000  114.000000  \n",
      "mean                  0.084034    0.701754  \n",
      "std                   0.017423    0.459508  \n",
      "min                   0.055210    0.000000  \n",
      "25%                   0.072598    0.000000  \n",
      "50%                   0.081545    1.000000  \n",
      "75%                   0.091173    1.000000  \n",
      "max                   0.173000    1.000000  \n",
      "\n",
      "[8 rows x 31 columns]\n"
     ]
    }
   ],
   "source": [
    "\n",
    "# Loading the datasets correctly\n",
    "train_df = pd.read_csv('cancer_train.csv')\n",
    "test_df = pd.read_csv('cancer_test.csv')\n",
    "\n",
    "# Displaying the first 5 rows of each dataset\n",
    "display(Markdown(\"### Train set - first 5 rows:\\n\"))\n",
    "print(train_df.head())\n",
    "\n",
    "display(Markdown(\"### Test set - first 5 rows:\\n\"))\n",
    "print(test_df.head())\n",
    "\n",
    "# Generating statistics to get a basic understanding of the data\n",
    "display(Markdown(\"### Descriptive statistics for the train set:\\n\"))\n",
    "print(train_df.describe())\n",
    "\n",
    "display(Markdown(\"### Descriptive statistics for the test set:\\n\"))\n",
    "print(test_df.describe())\n"
   ]
  },
  {
   "cell_type": "markdown",
   "metadata": {},
   "source": [
    "## Part 2 - Initial Preparations \n",
    "You could add as many code cells as needed"
   ]
  },
  {
   "cell_type": "code",
   "execution_count": 17,
   "metadata": {
    "collapsed": true
   },
   "outputs": [],
   "source": []
  },
  {
   "cell_type": "code",
   "execution_count": 18,
   "metadata": {
    "collapsed": true
   },
   "outputs": [],
   "source": []
  },
  {
   "cell_type": "code",
   "execution_count": 7,
   "metadata": {},
   "outputs": [
    {
     "data": {
      "text/markdown": [
       "### Boxplot of Mean Radius in Train Set"
      ],
      "text/plain": [
       "<IPython.core.display.Markdown object>"
      ]
     },
     "metadata": {},
     "output_type": "display_data"
    },
    {
     "data": {
      "image/png": "[encoded data removed]",
      "text/plain": [
       "<Figure size 576x432 with 1 Axes>"
      ]
     },
     "metadata": {
      "needs_background": "light"
     },
     "output_type": "display_data"
    },
    {
     "data": {
      "text/markdown": [
       "### Countplot of Target in Train Set"
      ],
      "text/plain": [
       "<IPython.core.display.Markdown object>"
      ]
     },
     "metadata": {},
     "output_type": "display_data"
    },
    {
     "data": {
      "image/png": "[encoded data removed]",
      "text/plain": [
       "<Figure size 576x432 with 1 Axes>"
      ]
     },
     "metadata": {
      "needs_background": "light"
     },
     "output_type": "display_data"
    },
    {
     "data": {
      "text/markdown": [
       "### Histogram of Mean Compactness in Train Set"
      ],
      "text/plain": [
       "<IPython.core.display.Markdown object>"
      ]
     },
     "metadata": {},
     "output_type": "display_data"
    },
    {
     "data": {
      "image/png": "[encoded data removed]",
      "text/plain": [
       "<Figure size 576x432 with 1 Axes>"
      ]
     },
     "metadata": {
      "needs_background": "light"
     },
     "output_type": "display_data"
    },
    {
     "data": {
      "text/markdown": [
       "### Scatter Plot of Worst Perimeter vs Worst Area"
      ],
      "text/plain": [
       "<IPython.core.display.Markdown object>"
      ]
     },
     "metadata": {},
     "output_type": "display_data"
    },
    {
     "data": {
      "image/png": "[encoded data removed]",
      "text/plain": [
       "<Figure size 576x432 with 1 Axes>"
      ]
     },
     "metadata": {
      "needs_background": "light"
     },
     "output_type": "display_data"
    }
   ],
   "source": [
    "# Data Visualization to further explore the data features and relationships\n",
    "\n",
    "# Boxplot for 'mean radius' showing the distribution across the samples in the train set\n",
    "\n",
    "plt.figure(figsize=(8, 6))\n",
    "sns.boxplot(x='mean radius', data=train_df)\n",
    "plt.title(display(Markdown(\"### Boxplot of Mean Radius in Train Set\")))\n",
    "plt.show()\n",
    "\n",
    "# Countplot showing the distribution of target classes in the train set\n",
    "\n",
    "plt.figure(figsize=(8, 6))\n",
    "sns.countplot(x='target', data=train_df)\n",
    "plt.title(display(Markdown(\"### Countplot of Target in Train Set\")))\n",
    "plt.show()\n",
    "\n",
    "# Histogram of 'mean compactness'\n",
    "plt.figure(figsize=(8, 6))\n",
    "sns.histplot(train_df['mean compactness'], kde=True)\n",
    "plt.title(display(Markdown(\"### Histogram of Mean Compactness in Train Set\")))\n",
    "plt.xlabel('Mean Compactness')\n",
    "plt.ylabel('Frequency')\n",
    "plt.show()\n",
    "\n",
    "# Scatter plot of 'worst perimeter' vs 'worst area'\n",
    "plt.figure(figsize=(8, 6))\n",
    "sns.scatterplot(x='worst perimeter', y='worst area', data=train_df)\n",
    "plt.title(display(Markdown(\"### Scatter Plot of Worst Perimeter vs Worst Area\")))\n",
    "plt.xlabel('Worst Perimeter')\n",
    "plt.ylabel('Worst Area')\n",
    "plt.show()"
   ]
  },
  {
   "cell_type": "markdown",
   "metadata": {},
   "source": [
    "## Part 3 - Experiments\n",
    "You could add as many code cells as needed"
   ]
  },
  {
   "cell_type": "code",
   "execution_count": 20,
   "metadata": {
    "collapsed": true
   },
   "outputs": [],
   "source": []
  },
  {
   "cell_type": "code",
   "execution_count": 8,
   "metadata": {},
   "outputs": [
    {
     "name": "stdout",
     "output_type": "stream",
     "text": [
      "Best parameters for SVC: {'classifier__C': 0.1, 'classifier__kernel': 'linear', 'features__degree': 1}\n",
      "Best cross-validation score for SVC: 0.9767557965739959\n",
      "Best parameters for GaussianNB: {'classifier__priors': [0.7, 0.3], 'classifier__var_smoothing': 1e-09, 'features__degree': 1}\n",
      "Best cross-validation score for GaussianNB: 0.9282059591926151\n",
      "SVC Results:\n",
      "    param_classifier__C param_classifier__kernel param_features__degree  \\\n",
      "0                  0.1                      rbf                      1   \n",
      "1                  0.1                      rbf                      2   \n",
      "2                  0.1                   linear                      1   \n",
      "3                  0.1                   linear                      2   \n",
      "4                    1                      rbf                      1   \n",
      "5                    1                      rbf                      2   \n",
      "6                    1                   linear                      1   \n",
      "7                    1                   linear                      2   \n",
      "8                   10                      rbf                      1   \n",
      "9                   10                      rbf                      2   \n",
      "10                  10                   linear                      1   \n",
      "11                  10                   linear                      2   \n",
      "\n",
      "    mean_test_score  \n",
      "0          0.931705  \n",
      "1          0.711105  \n",
      "2          0.976756  \n",
      "3          0.942229  \n",
      "4          0.967465  \n",
      "5          0.914005  \n",
      "6          0.972108  \n",
      "7          0.911638  \n",
      "8          0.972162  \n",
      "9          0.951456  \n",
      "10         0.960535  \n",
      "11         0.911638  \n",
      "GaussianNB Results:\n",
      "    param_classifier__var_smoothing param_classifier__priors  \\\n",
      "0                              0.0                     None   \n",
      "1                              0.0                     None   \n",
      "2                              0.0                     None   \n",
      "3                              0.0                     None   \n",
      "4                              0.0                     None   \n",
      "5                              0.0                     None   \n",
      "6                         0.000001                     None   \n",
      "7                         0.000001                     None   \n",
      "8                          0.00001                     None   \n",
      "9                          0.00001                     None   \n",
      "10                          0.0001                     None   \n",
      "11                          0.0001                     None   \n",
      "12                           0.001                     None   \n",
      "13                           0.001                     None   \n",
      "14                            0.01                     None   \n",
      "15                            0.01                     None   \n",
      "16                             0.1                     None   \n",
      "17                             0.1                     None   \n",
      "18                             1.0                     None   \n",
      "19                             1.0                     None   \n",
      "20                             0.0               [0.7, 0.3]   \n",
      "21                             0.0               [0.7, 0.3]   \n",
      "22                             0.0               [0.7, 0.3]   \n",
      "23                             0.0               [0.7, 0.3]   \n",
      "24                             0.0               [0.7, 0.3]   \n",
      "25                             0.0               [0.7, 0.3]   \n",
      "26                        0.000001               [0.7, 0.3]   \n",
      "27                        0.000001               [0.7, 0.3]   \n",
      "28                         0.00001               [0.7, 0.3]   \n",
      "29                         0.00001               [0.7, 0.3]   \n",
      "30                          0.0001               [0.7, 0.3]   \n",
      "31                          0.0001               [0.7, 0.3]   \n",
      "32                           0.001               [0.7, 0.3]   \n",
      "33                           0.001               [0.7, 0.3]   \n",
      "34                            0.01               [0.7, 0.3]   \n",
      "35                            0.01               [0.7, 0.3]   \n",
      "36                             0.1               [0.7, 0.3]   \n",
      "37                             0.1               [0.7, 0.3]   \n",
      "38                             1.0               [0.7, 0.3]   \n",
      "39                             1.0               [0.7, 0.3]   \n",
      "40                             0.0               [0.5, 0.5]   \n",
      "41                             0.0               [0.5, 0.5]   \n",
      "42                             0.0               [0.5, 0.5]   \n",
      "43                             0.0               [0.5, 0.5]   \n",
      "44                             0.0               [0.5, 0.5]   \n",
      "45                             0.0               [0.5, 0.5]   \n",
      "46                        0.000001               [0.5, 0.5]   \n",
      "47                        0.000001               [0.5, 0.5]   \n",
      "48                         0.00001               [0.5, 0.5]   \n",
      "49                         0.00001               [0.5, 0.5]   \n",
      "50                          0.0001               [0.5, 0.5]   \n",
      "51                          0.0001               [0.5, 0.5]   \n",
      "52                           0.001               [0.5, 0.5]   \n",
      "53                           0.001               [0.5, 0.5]   \n",
      "54                            0.01               [0.5, 0.5]   \n",
      "55                            0.01               [0.5, 0.5]   \n",
      "56                             0.1               [0.5, 0.5]   \n",
      "57                             0.1               [0.5, 0.5]   \n",
      "58                             1.0               [0.5, 0.5]   \n",
      "59                             1.0               [0.5, 0.5]   \n",
      "\n",
      "   param_features__degree  mean_test_score  \n",
      "0                       1         0.925758  \n",
      "1                       2         0.751851  \n",
      "2                       1         0.925758  \n",
      "3                       2         0.751851  \n",
      "4                       1         0.925758  \n",
      "5                       2         0.751851  \n",
      "6                       1         0.925758  \n",
      "7                       2         0.751851  \n",
      "8                       1         0.925758  \n",
      "9                       2         0.751851  \n",
      "10                      1         0.925758  \n",
      "11                      2         0.748821  \n",
      "12                      1         0.925758  \n",
      "13                      2         0.736079  \n",
      "14                      1         0.925619  \n",
      "15                      2         0.670083  \n",
      "16                      1         0.922631  \n",
      "17                      2         0.551011  \n",
      "18                      1         0.915641  \n",
      "19                      2         0.445382  \n",
      "20                      1         0.928206  \n",
      "21                      2         0.751851  \n",
      "22                      1         0.928206  \n",
      "23                      2         0.751851  \n",
      "24                      1         0.928206  \n",
      "25                      2         0.751851  \n",
      "26                      1         0.928206  \n",
      "27                      2         0.751851  \n",
      "28                      1         0.928206  \n",
      "29                      2         0.751851  \n",
      "30                      1         0.928206  \n",
      "31                      2         0.748821  \n",
      "32                      1         0.928206  \n",
      "33                      2         0.736079  \n",
      "34                      1         0.925758  \n",
      "35                      2         0.673648  \n",
      "36                      1         0.920635  \n",
      "37                      2         0.551011  \n",
      "38                      1         0.921041  \n",
      "39                      2         0.450774  \n",
      "40                      1         0.925758  \n",
      "41                      2         0.751851  \n",
      "42                      1         0.925758  \n",
      "43                      2         0.751851  \n",
      "44                      1         0.925758  \n",
      "45                      2         0.751851  \n",
      "46                      1         0.925758  \n",
      "47                      2         0.751851  \n",
      "48                      1         0.925758  \n",
      "49                      2         0.751851  \n",
      "50                      1         0.925758  \n",
      "51                      2         0.748821  \n",
      "52                      1         0.925758  \n",
      "53                      2         0.736079  \n",
      "54                      1         0.925619  \n",
      "55                      2         0.673648  \n",
      "56                      1         0.922836  \n",
      "57                      2         0.551011  \n",
      "58                      1         0.915641  \n",
      "59                      2         0.445382  \n"
     ]
    }
   ],
   "source": [
    "# טעינת נתונים\n",
    "data = pd.read_csv('cancer_train.csv')\n",
    "X = data.drop('target', axis=1)\n",
    "y = data['target']\n",
    "\n",
    "# הגדרת pipelines עם Feature Engineering\n",
    "pipeline_svc = Pipeline([\n",
    "    ('scaler', StandardScaler()),\n",
    "    ('features', PolynomialFeatures(degree=2)),  # Feature Engineering\n",
    "    ('classifier', SVC())\n",
    "])\n",
    "\n",
    "pipeline_nb = Pipeline([\n",
    "    ('scaler', StandardScaler()),\n",
    "    ('features', PolynomialFeatures(degree=2)),  # Feature Engineering\n",
    "    ('classifier', GaussianNB())\n",
    "])\n",
    "\n",
    "# הגדרת פרמטרים לחיפוש רשת\n",
    "param_grid_svc = {\n",
    "    'classifier__C': [0.1, 1, 10],\n",
    "    'classifier__kernel': ['rbf', 'linear'],\n",
    "    'features__degree': [1, 2]\n",
    "}\n",
    "\n",
    "param_grid_nb = {\n",
    "    'classifier__var_smoothing': np.logspace(-9, 0, 10),\n",
    "    'classifier__priors': [None, [0.7, 0.3], [0.5, 0.5]],  # הוספת הפרמטר priors\n",
    "    'features__degree': [1, 2]\n",
    "}\n",
    "\n",
    "# יצירת scorer מותאם ל-f1 macro\n",
    "scorer = make_scorer(f1_score, average='macro')\n",
    "\n",
    "# חיפוש רשת עם cross-validation\n",
    "grid_search_svc = GridSearchCV(pipeline_svc, param_grid_svc, cv=5, scoring=scorer)\n",
    "grid_search_nb = GridSearchCV(pipeline_nb, param_grid_nb, cv=5, scoring=scorer)\n",
    "\n",
    "grid_search_svc.fit(X, y)\n",
    "grid_search_nb.fit(X, y)\n",
    "\n",
    "# הדפסת התוצאות הטובות ביותר וטבלת השוואה\n",
    "print(\"Best parameters for SVC:\", grid_search_svc.best_params_)\n",
    "print(\"Best cross-validation score for SVC:\", grid_search_svc.best_score_)\n",
    "print(\"Best parameters for GaussianNB:\", grid_search_nb.best_params_)\n",
    "print(\"Best cross-validation score for GaussianNB:\", grid_search_nb.best_score_)\n",
    "\n",
    "# יצירת DataFrame להשוואת התוצאות\n",
    "results_df = pd.DataFrame(grid_search_svc.cv_results_)\n",
    "results_df_nb = pd.DataFrame(grid_search_nb.cv_results_)\n",
    "print(\"SVC Results:\\n\", results_df[['param_classifier__C', 'param_classifier__kernel', 'param_features__degree', 'mean_test_score']])\n",
    "print(\"GaussianNB Results:\\n\", results_df_nb[['param_classifier__var_smoothing', 'param_classifier__priors', 'param_features__degree', 'mean_test_score']])\n",
    "\n"
   ]
  },
  {
   "cell_type": "code",
   "execution_count": null,
   "metadata": {
    "collapsed": true
   },
   "outputs": [],
   "source": []
  },
  {
   "cell_type": "code",
   "execution_count": null,
   "metadata": {
    "collapsed": true
   },
   "outputs": [],
   "source": []
  },
  {
   "cell_type": "markdown",
   "metadata": {},
   "source": [
    "## Part 4 - Training \n",
    "Use the best combination of feature engineering, model (algorithm and hyperparameters) from the experiment part (part 3)"
   ]
  },
  {
   "cell_type": "code",
   "execution_count": 18,
   "metadata": {},
   "outputs": [
    {
     "data": {
      "text/plain": [
       "Pipeline(steps=[('scaler', StandardScaler()),\n",
       "                ('features', PolynomialFeatures(degree=1)),\n",
       "                ('classifier', SVC(C=0.1, kernel='linear'))])"
      ]
     },
     "execution_count": 18,
     "metadata": {},
     "output_type": "execute_result"
    }
   ],
   "source": [
    "# טעינת נתונים\n",
    "train_data = pd.read_csv('cancer_train.csv')\n",
    "X_train = train_data.drop('target', axis=1)\n",
    "y_train = train_data['target']\n",
    "\n",
    "# הגדרת ה-pipeline עם הפרמטרים הטובים ביותר שנמצאו\n",
    "best_pipeline_svc = Pipeline([\n",
    "    ('scaler', StandardScaler()),\n",
    "    ('features', PolynomialFeatures(degree=1)),  # הפיצ'ר הנדרש\n",
    "    ('classifier', SVC(C=0.1, kernel='linear'))\n",
    "])\n",
    "\n",
    "# אימון המודל על כל הדטה סט של האימון\n",
    "best_pipeline_svc.fit(X_train, y_train)\n",
    "\n"
   ]
  },
  {
   "cell_type": "code",
   "execution_count": null,
   "metadata": {
    "collapsed": true
   },
   "outputs": [],
   "source": []
  },
  {
   "cell_type": "code",
   "execution_count": null,
   "metadata": {
    "collapsed": true
   },
   "outputs": [],
   "source": []
  },
  {
   "cell_type": "markdown",
   "metadata": {},
   "source": [
    "## Part 5 - Apply on test and show model performance estimation"
   ]
  },
  {
   "cell_type": "code",
   "execution_count": 19,
   "metadata": {},
   "outputs": [
    {
     "name": "stdout",
     "output_type": "stream",
     "text": [
      "First five predictions: [0 1 0 1 0]\n",
      "              precision    recall  f1-score   support\n",
      "\n",
      "           0       0.99      0.97      0.98       178\n",
      "           1       0.98      0.99      0.99       277\n",
      "\n",
      "    accuracy                           0.98       455\n",
      "   macro avg       0.98      0.98      0.98       455\n",
      "weighted avg       0.98      0.98      0.98       455\n",
      "\n"
     ]
    }
   ],
   "source": [
    "# טעינת נתוני הבדיקה\n",
    "test_data = train_df\n",
    "X_test = test_data.drop('target', axis=1)\n",
    "y_test = test_data['target']\n",
    "\n",
    "# חיזוי על נתוני הבדיקה\n",
    "predictions = best_pipeline_svc.predict(X_test)\n",
    "\n",
    "# הדפסת תוצאות החיזוי ל-5 הדוגמאות הראשונות\n",
    "print(\"First five predictions:\", predictions[:5])\n",
    "\n",
    "# חישוב והדפסת איכות המודל\n",
    "from sklearn.metrics import classification_report\n",
    "print(classification_report(y_test, predictions))\n"
   ]
  },
  {
   "cell_type": "code",
   "execution_count": null,
   "metadata": {
    "collapsed": true
   },
   "outputs": [],
   "source": []
  },
  {
   "cell_type": "code",
   "execution_count": null,
   "metadata": {
    "collapsed": true
   },
   "outputs": [],
   "source": []
  }
 ],
 "metadata": {
  "kernelspec": {
   "display_name": "Python 3 [3.7]",
   "language": "python",
   "name": "python3"
  },
  "language_info": {
   "codemirror_mode": {
    "name": "ipython",
    "version": 3
   },
   "file_extension": ".py",
   "mimetype": "text/x-python",
   "name": "python",
   "nbconvert_exporter": "python",
   "pygments_lexer": "ipython3",
   "version": "3.7.5"
  }
 },
 "nbformat": 4,
 "nbformat_minor": 5
}
