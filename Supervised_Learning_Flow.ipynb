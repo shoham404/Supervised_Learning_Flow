{
 "cells": [
  {
   "cell_type": "markdown",
   "id": "ec202ada",
   "metadata": {},
   "source": [
    "# Assignment2 - Supervised Learning flow"
   ]
  },
  {
   "cell_type": "markdown",
   "id": "b06a2810",
   "metadata": {},
   "source": [
    "# Part 1 - Student details:\n",
    "* Please write the First Name and last 4 digits of the i.d. for each student. For example:\n",
    "<pre>Israel 9812</pre>"
   ]
  },
  {
   "cell_type": "code",
   "execution_count": 73,
   "id": "ca16486b",
   "metadata": {},
   "outputs": [],
   "source": [
    "# student 1: Shoham 2269\n",
    "# student 2: Yuval 1234"
   ]
  },
  {
   "cell_type": "markdown",
   "id": "df67c2ee-87c8-499c-a04f-1853c332f51d",
   "metadata": {},
   "source": [
    "## Part 2 - Initial Preparations \n",
    "You could add as many code cells as needed"
   ]
  },
  {
   "cell_type": "code",
   "execution_count": 74,
   "id": "b29b3454-b568-4614-8017-f15b3c59fc55",
   "metadata": {},
   "outputs": [],
   "source": [
    "import pandas as pd\n",
    "import seaborn as sns\n",
    "import matplotlib.pyplot as plt\n",
    "from IPython.display import Markdown, display"
   ]
  },
  {
   "cell_type": "code",
   "execution_count": 75,
   "id": "4b47fe56-d611-4b28-be92-673db4d56400",
   "metadata": {},
   "outputs": [
    {
     "data": {
      "text/markdown": [
       "### Train set - first 5 rows:\n"
      ],
      "text/plain": [
       "<IPython.core.display.Markdown object>"
      ]
     },
     "metadata": {},
     "output_type": "display_data"
    },
    {
     "name": "stdout",
     "output_type": "stream",
     "text": [
      "   mean radius  mean texture  mean perimeter  mean area  mean smoothness  \\\n",
      "0       16.170         16.07          106.30      788.5          0.09880   \n",
      "1       14.580         13.66           94.29      658.8          0.09832   \n",
      "2       18.820         21.97          123.70     1110.0          0.10180   \n",
      "3        8.196         16.84           51.71      201.9          0.08600   \n",
      "4       12.940         16.17           83.18      507.6          0.09879   \n",
      "\n",
      "   mean compactness  mean concavity  mean concave points  mean symmetry  \\\n",
      "0           0.14380         0.06651             0.053970         0.1990   \n",
      "1           0.08918         0.08222             0.043490         0.1739   \n",
      "2           0.13890         0.15940             0.087440         0.1943   \n",
      "3           0.05943         0.01588             0.005917         0.1769   \n",
      "4           0.08836         0.03296             0.023900         0.1735   \n",
      "\n",
      "   mean fractal dimension  ...  worst texture  worst perimeter  worst area  \\\n",
      "0                 0.06572  ...          19.14           113.10       861.5   \n",
      "1                 0.05640  ...          17.24           108.50       862.0   \n",
      "2                 0.06132  ...          30.93           145.30      1603.0   \n",
      "3                 0.06503  ...          21.96            57.26       242.2   \n",
      "4                 0.06200  ...          23.02            89.69       580.9   \n",
      "\n",
      "   worst smoothness  worst compactness  worst concavity  worst concave points  \\\n",
      "0            0.1235             0.2550           0.2114               0.12510   \n",
      "1            0.1223             0.1928           0.2492               0.09186   \n",
      "2            0.1390             0.3463           0.3912               0.17080   \n",
      "3            0.1297             0.1357           0.0688               0.02564   \n",
      "4            0.1172             0.1958           0.1810               0.08388   \n",
      "\n",
      "   worst symmetry  worst fractal dimension  target  \n",
      "0          0.3153                  0.08960       1  \n",
      "1          0.2626                  0.07048       1  \n",
      "2          0.3007                  0.08314       0  \n",
      "3          0.3105                  0.07409       1  \n",
      "4          0.3297                  0.07834       1  \n",
      "\n",
      "[5 rows x 31 columns]\n"
     ]
    },
    {
     "data": {
      "text/markdown": [
       "### Test set - first 5 rows:\n"
      ],
      "text/plain": [
       "<IPython.core.display.Markdown object>"
      ]
     },
     "metadata": {},
     "output_type": "display_data"
    },
    {
     "name": "stdout",
     "output_type": "stream",
     "text": [
      "   mean radius  mean texture  mean perimeter  mean area  mean smoothness  \\\n",
      "0       13.170         18.66           85.98      534.6          0.11580   \n",
      "1        9.667         18.49           61.49      289.1          0.08946   \n",
      "2       20.090         23.86          134.70     1247.0          0.10800   \n",
      "3        8.950         15.76           58.74      245.2          0.09462   \n",
      "4       18.030         16.85          117.50      990.0          0.08947   \n",
      "\n",
      "   mean compactness  mean concavity  mean concave points  mean symmetry  \\\n",
      "0           0.12310         0.12260              0.07340         0.2128   \n",
      "1           0.06258         0.02948              0.01514         0.2238   \n",
      "2           0.18380         0.22830              0.12800         0.2249   \n",
      "3           0.12430         0.09263              0.02308         0.1305   \n",
      "4           0.12320         0.10900              0.06254         0.1720   \n",
      "\n",
      "   mean fractal dimension  ...  worst texture  worst perimeter  worst area  \\\n",
      "0                 0.06777  ...          27.95           102.80       759.4   \n",
      "1                 0.06413  ...          25.62            70.88       385.2   \n",
      "2                 0.07469  ...          29.43           158.80      1696.0   \n",
      "3                 0.07163  ...          17.07            63.34       270.0   \n",
      "4                 0.05780  ...          22.02           133.30      1292.0   \n",
      "\n",
      "   worst smoothness  worst compactness  worst concavity  worst concave points  \\\n",
      "0            0.1786             0.4166           0.5006               0.20880   \n",
      "1            0.1234             0.1542           0.1277               0.06560   \n",
      "2            0.1347             0.3391           0.4932               0.19230   \n",
      "3            0.1179             0.1879           0.1544               0.03846   \n",
      "4            0.1263             0.2666           0.4290               0.15350   \n",
      "\n",
      "   worst symmetry  worst fractal dimension  target  \n",
      "0          0.3900                  0.11790       0  \n",
      "1          0.3174                  0.08524       1  \n",
      "2          0.3294                  0.09469       0  \n",
      "3          0.1652                  0.07722       1  \n",
      "4          0.2842                  0.08225       0  \n",
      "\n",
      "[5 rows x 31 columns]\n"
     ]
    },
    {
     "data": {
      "text/markdown": [
       "### Descriptive statistics for the train set:\n"
      ],
      "text/plain": [
       "<IPython.core.display.Markdown object>"
      ]
     },
     "metadata": {},
     "output_type": "display_data"
    },
    {
     "name": "stdout",
     "output_type": "stream",
     "text": [
      "       mean radius  mean texture  mean perimeter    mean area  \\\n",
      "count   114.000000    114.000000      114.000000   114.000000   \n",
      "mean     13.605965     18.518596       88.348246   600.243860   \n",
      "std       3.102470      4.389544       21.349267   291.016495   \n",
      "min       8.196000      9.710000       51.710000   201.900000   \n",
      "25%      11.472500     15.472500       74.425000   405.600000   \n",
      "50%      13.080000     18.060000       84.290000   517.250000   \n",
      "75%      14.957500     21.127500       96.645000   686.650000   \n",
      "max      23.290000     30.720000      158.900000  1685.000000   \n",
      "\n",
      "       mean smoothness  mean compactness  mean concavity  mean concave points  \\\n",
      "count       114.000000        114.000000      114.000000           114.000000   \n",
      "mean          0.096905          0.099907        0.080602             0.044554   \n",
      "std           0.015151          0.048234        0.073645             0.034689   \n",
      "min           0.068280          0.023440        0.000000             0.000000   \n",
      "25%           0.086773          0.063600        0.027387             0.018790   \n",
      "50%           0.097810          0.085730        0.057550             0.034975   \n",
      "75%           0.106475          0.131450        0.112750             0.063698   \n",
      "max           0.163400          0.283900        0.352300             0.162000   \n",
      "\n",
      "       mean symmetry  mean fractal dimension  ...  worst texture  \\\n",
      "count     114.000000              114.000000  ...     114.000000   \n",
      "mean        0.177938                0.063302  ...      24.765614   \n",
      "std         0.025262                0.007571  ...       6.073141   \n",
      "min         0.106000                0.051850  ...      12.020000   \n",
      "25%         0.161625                0.058833  ...      20.245000   \n",
      "50%         0.178100                0.062385  ...      24.605000   \n",
      "75%         0.195175                0.066047  ...      28.630000   \n",
      "max         0.259700                0.097440  ...      41.610000   \n",
      "\n",
      "       worst perimeter   worst area  worst smoothness  worst compactness  \\\n",
      "count       114.000000   114.000000        114.000000         114.000000   \n",
      "mean        102.083596   790.732456          0.131840           0.243136   \n",
      "std          28.770546   448.536271          0.023822           0.149455   \n",
      "min          56.650000   240.100000          0.071170           0.027290   \n",
      "25%          82.735000   511.000000          0.117750           0.142575   \n",
      "50%          96.675000   651.250000          0.131850           0.202300   \n",
      "75%         113.875000   902.025000          0.143900           0.308175   \n",
      "max         179.100000  2215.000000          0.209800           0.866300   \n",
      "\n",
      "       worst concavity  worst concave points  worst symmetry  \\\n",
      "count       114.000000            114.000000      114.000000   \n",
      "mean          0.255321              0.108786        0.286587   \n",
      "std           0.209155              0.065094        0.063315   \n",
      "min           0.000000              0.000000        0.156600   \n",
      "25%           0.110050              0.059515        0.247275   \n",
      "50%           0.193350              0.097305        0.281650   \n",
      "75%           0.380150              0.156875        0.311200   \n",
      "max           1.252000              0.273300        0.663800   \n",
      "\n",
      "       worst fractal dimension      target  \n",
      "count               114.000000  114.000000  \n",
      "mean                  0.084034    0.701754  \n",
      "std                   0.017423    0.459508  \n",
      "min                   0.055210    0.000000  \n",
      "25%                   0.072598    0.000000  \n",
      "50%                   0.081545    1.000000  \n",
      "75%                   0.091173    1.000000  \n",
      "max                   0.173000    1.000000  \n",
      "\n",
      "[8 rows x 31 columns]\n"
     ]
    },
    {
     "data": {
      "text/markdown": [
       "### Descriptive statistics for the test set:\n"
      ],
      "text/plain": [
       "<IPython.core.display.Markdown object>"
      ]
     },
     "metadata": {},
     "output_type": "display_data"
    },
    {
     "name": "stdout",
     "output_type": "stream",
     "text": [
      "       mean radius  mean texture  mean perimeter    mean area  \\\n",
      "count   455.000000    455.000000      455.000000   455.000000   \n",
      "mean     14.257910     19.482835       92.876220   668.580440   \n",
      "std       3.613344      4.261633       24.922646   364.587131   \n",
      "min       6.981000     10.380000       43.790000   143.500000   \n",
      "25%      11.725000     16.390000       75.265000   422.300000   \n",
      "50%      13.460000     19.020000       87.160000   559.200000   \n",
      "75%      16.150000     21.960000      106.850000   807.450000   \n",
      "max      28.110000     39.280000      188.500000  2501.000000   \n",
      "\n",
      "       mean smoothness  mean compactness  mean concavity  mean concave points  \\\n",
      "count       455.000000        455.000000      455.000000           455.000000   \n",
      "mean          0.096224          0.105452        0.090853             0.050013   \n",
      "std           0.013793          0.053892        0.081118             0.039727   \n",
      "min           0.052630          0.019380        0.000000             0.000000   \n",
      "25%           0.086210          0.065600        0.029700             0.020610   \n",
      "50%           0.095090          0.094530        0.063350             0.033340   \n",
      "75%           0.105000          0.130150        0.134150             0.077440   \n",
      "max           0.144700          0.345400        0.426800             0.201200   \n",
      "\n",
      "       mean symmetry  mean fractal dimension  ...  worst texture  \\\n",
      "count     455.000000              455.000000  ...     455.000000   \n",
      "mean        0.181970                0.062671  ...      25.905626   \n",
      "std         0.027895                0.006930  ...       6.149887   \n",
      "min         0.116700                0.049960  ...      12.490000   \n",
      "25%         0.162000                0.057660  ...      21.355000   \n",
      "50%         0.179400                0.061400  ...      25.500000   \n",
      "75%         0.195950                0.066180  ...      30.285000   \n",
      "max         0.304000                0.095750  ...      49.540000   \n",
      "\n",
      "       worst perimeter   worst area  worst smoothness  worst compactness  \\\n",
      "count       455.000000   455.000000        455.000000         455.000000   \n",
      "mean        108.558462   903.095165          0.132501           0.257053   \n",
      "std          34.615237   594.101449          0.022603           0.159287   \n",
      "min          50.410000   185.200000          0.081250           0.034320   \n",
      "25%          84.405000   516.450000          0.116200           0.147750   \n",
      "50%          97.670000   697.700000          0.131200           0.216700   \n",
      "75%         127.750000  1151.500000          0.146400           0.341600   \n",
      "max         251.200000  4254.000000          0.222600           1.058000   \n",
      "\n",
      "       worst concavity  worst concave points  worst symmetry  \\\n",
      "count       455.000000            455.000000      455.000000   \n",
      "mean          0.276415              0.116064        0.290950   \n",
      "std           0.208508              0.065882        0.061539   \n",
      "min           0.000000              0.000000        0.156500   \n",
      "25%           0.115450              0.065280        0.251000   \n",
      "50%           0.232200              0.101200        0.282200   \n",
      "75%           0.385300              0.161950        0.319600   \n",
      "max           1.170000              0.291000        0.577400   \n",
      "\n",
      "       worst fractal dimension      target  \n",
      "count               455.000000  455.000000  \n",
      "mean                  0.083924    0.608791  \n",
      "std                   0.018236    0.488558  \n",
      "min                   0.055040    0.000000  \n",
      "25%                   0.071250    0.000000  \n",
      "50%                   0.079480    1.000000  \n",
      "75%                   0.092130    1.000000  \n",
      "max                   0.207500    1.000000  \n",
      "\n",
      "[8 rows x 31 columns]\n"
     ]
    },
    {
     "data": {
      "text/plain": [
       "<Figure size 1000x500 with 0 Axes>"
      ]
     },
     "execution_count": 75,
     "metadata": {},
     "output_type": "execute_result"
    },
    {
     "data": {
      "text/plain": [
       "<Figure size 1000x500 with 0 Axes>"
      ]
     },
     "metadata": {},
     "output_type": "display_data"
    }
   ],
   "source": [
    "# Part 2: Initial Preparations and Exploratory Data Analysis (EDA)\n",
    "\n",
    "# Loading the datasets\n",
    "\n",
    "train_df = pd.read_csv('cancer_test.csv')\n",
    "test_df = pd.read_csv('cancer_train.csv')\n",
    "\n",
    "# Displaying the first 5 rows of each dataset\n",
    "\n",
    "display(Markdown(\"### Train set - first 5 rows:\\n\"))\n",
    "print(train_df.head())\n",
    "\n",
    "display(Markdown(\"### Test set - first 5 rows:\\n\"))\n",
    "print(test_df.head())\n",
    "\n",
    "# Generating statistics to get a basic understanding of the data\n",
    "\n",
    "display(Markdown(\"### Descriptive statistics for the train set:\\n\"))\n",
    "print(train_df.describe())\n",
    "\n",
    "display(Markdown(\"### Descriptive statistics for the test set:\\n\"))\n",
    "print(test_df.describe())\n",
    "\n",
    "# EDA Visualization\n",
    "plt.figure(figsize=(10, 5))"
   ]
  },
  {
   "cell_type": "code",
   "execution_count": 76,
   "id": "53e27610-b640-4db0-80c9-789b5f5fae58",
   "metadata": {},
   "outputs": [
    {
     "data": {
      "text/markdown": [
       "### Boxplot of Mean Radius in Train Set"
      ],
      "text/plain": [
       "<IPython.core.display.Markdown object>"
      ]
     },
     "metadata": {},
     "output_type": "display_data"
    },
    {
     "data": {
      "image/png": "[encoded data removed]",
      "text/plain": [
       "<Figure size 800x600 with 1 Axes>"
      ]
     },
     "metadata": {},
     "output_type": "display_data"
    },
    {
     "data": {
      "text/markdown": [
       "### Countplot of Target in Train Set"
      ],
      "text/plain": [
       "<IPython.core.display.Markdown object>"
      ]
     },
     "metadata": {},
     "output_type": "display_data"
    },
    {
     "data": {
      "image/png": "[encoded data removed]",
      "text/plain": [
       "<Figure size 800x600 with 1 Axes>"
      ]
     },
     "metadata": {},
     "output_type": "display_data"
    },
    {
     "data": {
      "text/markdown": [
       "### Histogram of Mean Radius in Train Set"
      ],
      "text/plain": [
       "<IPython.core.display.Markdown object>"
      ]
     },
     "metadata": {},
     "output_type": "display_data"
    },
    {
     "data": {
      "image/png": "[encoded data removed]",
      "text/plain": [
       "<Figure size 800x600 with 1 Axes>"
      ]
     },
     "metadata": {},
     "output_type": "display_data"
    },
    {
     "data": {
      "text/markdown": [
       "### Scatter Plot of Mean Radius vs Mean Texture"
      ],
      "text/plain": [
       "<IPython.core.display.Markdown object>"
      ]
     },
     "metadata": {},
     "output_type": "display_data"
    },
    {
     "data": {
      "image/png": "[encoded data removed]",
      "text/plain": [
       "<Figure size 800x600 with 1 Axes>"
      ]
     },
     "metadata": {},
     "output_type": "display_data"
    }
   ],
   "source": [
    "# Data Visualization to further explore the data features and relationships\n",
    "\n",
    "# Boxplot for 'mean radius' showing the distribution across the samples in the train set\n",
    "\n",
    "plt.figure(figsize=(8, 6))\n",
    "sns.boxplot(x='mean radius', data=train_df)\n",
    "plt.title(display(Markdown(\"### Boxplot of Mean Radius in Train Set\")))\n",
    "plt.show()\n",
    "\n",
    "# Countplot showing the distribution of target classes in the train set\n",
    "\n",
    "plt.figure(figsize=(8, 6))\n",
    "sns.countplot(x='target', data=train_df)\n",
    "plt.title(display(Markdown(\"### Countplot of Target in Train Set\")))\n",
    "plt.show()\n",
    "\n",
    "# Histogram for 'mean radius' with a density curve\n",
    "\n",
    "plt.figure(figsize=(8, 6))\n",
    "sns.histplot(train_df['mean radius'], kde=True)\n",
    "plt.title(display(Markdown(\"### Histogram of Mean Radius in Train Set\")))\n",
    "plt.show()\n",
    "\n",
    "# Scatter plot comparing 'mean radius' and 'mean texture'\n",
    "\n",
    "plt.figure(figsize=(8, 6))\n",
    "sns.scatterplot(x='mean radius', y='mean texture', data=train_df)\n",
    "plt.title(display(Markdown(\"### Scatter Plot of Mean Radius vs Mean Texture\")))\n",
    "plt.show()"
   ]
  },
  {
   "cell_type": "markdown",
   "id": "fb36672a",
   "metadata": {},
   "source": [
    "## Part 3 - Experiments\n",
    "You could add as many code cells as needed"
   ]
  },
  {
   "cell_type": "code",
   "execution_count": 77,
   "id": "b7098585",
   "metadata": {},
   "outputs": [],
   "source": [
    "from sklearn.model_selection import GridSearchCV\n",
    "from sklearn.naive_bayes import GaussianNB\n",
    "from sklearn.svm import SVC\n",
    "from sklearn.preprocessing import StandardScaler, MinMaxScaler\n",
    "from sklearn.pipeline import Pipeline\n",
    "from sklearn.metrics import f1_score, make_scorer"
   ]
  },
  {
   "cell_type": "code",
   "execution_count": 78,
   "id": "097afb02",
   "metadata": {},
   "outputs": [
    {
     "data": {
      "text/markdown": [
       "### Experiment results:"
      ],
      "text/plain": [
       "<IPython.core.display.Markdown object>"
      ]
     },
     "metadata": {},
     "output_type": "display_data"
    },
    {
     "data": {
      "text/html": [
       "<div>\n",
       "<style scoped>\n",
       "    .dataframe tbody tr th:only-of-type {\n",
       "        vertical-align: middle;\n",
       "    }\n",
       "\n",
       "    .dataframe tbody tr th {\n",
       "        vertical-align: top;\n",
       "    }\n",
       "\n",
       "    .dataframe thead th {\n",
       "        text-align: right;\n",
       "    }\n",
       "</style>\n",
       "<table border=\"1\" class=\"dataframe\">\n",
       "  <thead>\n",
       "    <tr style=\"text-align: right;\">\n",
       "      <th></th>\n",
       "      <th>pipeline</th>\n",
       "      <th>best_params</th>\n",
       "      <th>best_score</th>\n",
       "    </tr>\n",
       "  </thead>\n",
       "  <tbody>\n",
       "    <tr>\n",
       "      <th>0</th>\n",
       "      <td>(StandardScaler(copy=True, with_mean=True, wit...</td>\n",
       "      <td>{'classifier__var_smoothing': 0.0657933224657568}</td>\n",
       "      <td>0.939683</td>\n",
       "    </tr>\n",
       "    <tr>\n",
       "      <th>1</th>\n",
       "      <td>(MinMaxScaler(copy=True, feature_range=(0, 1))...</td>\n",
       "      <td>{'classifier__var_smoothing': 0.12328467394420...</td>\n",
       "      <td>0.938985</td>\n",
       "    </tr>\n",
       "    <tr>\n",
       "      <th>2</th>\n",
       "      <td>(StandardScaler(copy=True, with_mean=True, wit...</td>\n",
       "      <td>{'classifier__C': 0.1, 'classifier__kernel': '...</td>\n",
       "      <td>0.967832</td>\n",
       "    </tr>\n",
       "    <tr>\n",
       "      <th>3</th>\n",
       "      <td>(MinMaxScaler(copy=True, feature_range=(0, 1))...</td>\n",
       "      <td>{'classifier__C': 10, 'classifier__kernel': 'l...</td>\n",
       "      <td>0.978555</td>\n",
       "    </tr>\n",
       "  </tbody>\n",
       "</table>\n",
       "</div>"
      ],
      "text/plain": [
       "                                            pipeline  \\\n",
       "0  (StandardScaler(copy=True, with_mean=True, wit...   \n",
       "1  (MinMaxScaler(copy=True, feature_range=(0, 1))...   \n",
       "2  (StandardScaler(copy=True, with_mean=True, wit...   \n",
       "3  (MinMaxScaler(copy=True, feature_range=(0, 1))...   \n",
       "\n",
       "                                         best_params  best_score  \n",
       "0  {'classifier__var_smoothing': 0.0657933224657568}    0.939683  \n",
       "1  {'classifier__var_smoothing': 0.12328467394420...    0.938985  \n",
       "2  {'classifier__C': 0.1, 'classifier__kernel': '...    0.967832  \n",
       "3  {'classifier__C': 10, 'classifier__kernel': 'l...    0.978555  "
      ]
     },
     "metadata": {},
     "output_type": "display_data"
    }
   ],
   "source": [
    "# Part 3: Experiments with Models and Hyperparameters\n",
    "\n",
    "# Separating input features and the target variable from the train set\n",
    "\n",
    "X_train = train_df.drop(columns=['target'])\n",
    "y_train = train_df['target']\n",
    "\n",
    "# Defining feature engineering techniques for normalization\n",
    "\n",
    "feature_eng_options = [\n",
    "    ('StandardScaler', StandardScaler()),\n",
    "    ('MinMaxScaler', MinMaxScaler())\n",
    "]\n",
    "\n",
    "# Setting up pipelines for two different classifiers with each normalization technique\n",
    "\n",
    "pipelines = [\n",
    "    Pipeline([('scaler', scaler), ('classifier', GaussianNB())]) for name, scaler in feature_eng_options\n",
    "] + [\n",
    "    Pipeline([('scaler', scaler), ('classifier', SVC())]) for name, scaler in feature_eng_options\n",
    "]\n",
    "\n",
    "# Defining hyperparameters for tuning\n",
    "\n",
    "param_grids = [\n",
    "    {'classifier__var_smoothing': np.logspace(0, -9, num=100)},  # עבור GaussianNB\n",
    "    {'classifier__C': [0.1, 1, 10], 'classifier__kernel': ['linear', 'rbf']}  # עבור SVC\n",
    "]\n",
    "\n",
    "# Setting the F1-score as the metric for model evaluation\n",
    "\n",
    "f1_macro = make_scorer(f1_score, average='macro')\n",
    "\n",
    "# Performing Grid Search to find the best model and parameters\n",
    "\n",
    "results = []\n",
    "\n",
    "for i, pipeline in enumerate(pipelines):\n",
    "    param_grid = param_grids[i // 2]  # Select the appropriate parameter set for the model\n",
    "    grid_search = GridSearchCV(pipeline, param_grid, cv=5, scoring=f1_macro)\n",
    "    grid_search.fit(X_train, y_train)\n",
    "    \n",
    "    # Saving the results\n",
    "    \n",
    "    best_params = grid_search.best_params_\n",
    "    best_score = grid_search.best_score_\n",
    "    results.append({'pipeline': pipeline, 'best_params': best_params, 'best_score': best_score})\n",
    "\n",
    "# Displaying the experiment results in a summary table\n",
    "\n",
    "results_df = pd.DataFrame(results)\n",
    "display(Markdown(\"### Experiment results:\"))\n",
    "display(results_df)"
   ]
  },
  {
   "cell_type": "code",
   "execution_count": 79,
   "id": "1fa9ec73",
   "metadata": {},
   "outputs": [
    {
     "name": "stdout",
     "output_type": "stream",
     "text": [
      "StandardScaler - Mean: -4.8304440369655936e-17, Std: 1.0\n",
      "MinMaxScaler - Mean: 0.28777969443237883, Std: 0.20615999968298965\n"
     ]
    }
   ],
   "source": [
    "# Feature engineering - normalize data with StandardScaler and MinMaxScaler\n",
    "\n",
    "scalers = {'StandardScaler': StandardScaler(), 'MinMaxScaler': MinMaxScaler()}\n",
    "\n",
    "# Apply each scaler to the training data and store the normalized data\n",
    "\n",
    "normalized_data = {}\n",
    "\n",
    "for name, scaler in scalers.items():\n",
    "    X_train_scaled = scaler.fit_transform(X_train)\n",
    "    normalized_data[name] = X_train_scaled\n",
    "\n",
    "# Analyze the statistical properties of the normalized data\n",
    "\n",
    "for name, X_scaled in normalized_data.items():\n",
    "    print(f\"{name} - Mean: {X_scaled.mean()}, Std: {X_scaled.std()}\")"
   ]
  },
  {
   "cell_type": "code",
   "execution_count": 80,
   "id": "937b653d",
   "metadata": {},
   "outputs": [
    {
     "name": "stdout",
     "output_type": "stream",
     "text": [
      "Best parameters for GaussianNB: {'var_smoothing': 1e-09}\n",
      "Best F1-macro score: 0.9291717825185566\n",
      "Best parameters for SVC: {'C': 0.1, 'kernel': 'linear'}\n",
      "Best F1-macro score: 0.9343662464985995\n"
     ]
    }
   ],
   "source": [
    "# Define models for classification and their respective hyperparameters: Naive Bayes and SVM\n",
    "\n",
    "models = {\n",
    "    'GaussianNB': GaussianNB(),\n",
    "    'SVC': SVC()\n",
    "}\n",
    "\n",
    "# hyperparameters for every model\n",
    "\n",
    "param_grid_nb = {'var_smoothing': [1e-9, 1e-8, 1e-7]}\n",
    "param_grid_svc = {'C': [0.1, 1, 10], 'kernel': ['linear', 'rbf']}\n",
    "\n",
    "# Perform Grid Search with cross-validation for each model\n",
    "\n",
    "for model_name, model in models.items():\n",
    "    if model_name == 'GaussianNB':\n",
    "        grid = GridSearchCV(model, param_grid_nb, cv=5, scoring=f1_macro)\n",
    "    elif model_name == 'SVC':\n",
    "        grid = GridSearchCV(model, param_grid_svc, cv=5, scoring=f1_macro)\n",
    "    \n",
    "    grid.fit(X_train, y_train)\n",
    "    \n",
    "    print(f\"Best parameters for {model_name}: {grid.best_params_}\")\n",
    "    print(f\"Best F1-macro score: {grid.best_score_}\")\n"
   ]
  },
  {
   "cell_type": "markdown",
   "id": "67d97f11",
   "metadata": {},
   "source": [
    "## Part 4 - Training \n",
    "Use the best combination of feature engineering, model (algorithm and hyperparameters) from the experiment part (part 3)"
   ]
  },
  {
   "cell_type": "code",
   "execution_count": 81,
   "id": "93713ead",
   "metadata": {},
   "outputs": [
    {
     "data": {
      "text/markdown": [
       "**Training complete with the best combination of feature engineering and hyperparameters.**"
      ],
      "text/plain": [
       "<IPython.core.display.Markdown object>"
      ]
     },
     "metadata": {},
     "output_type": "display_data"
    }
   ],
   "source": [
    "# Part 4: Training the Model\n",
    "# We select the best combination found in Part 3 for retraining on the entire training dataset.\n",
    "# This process utilizes the identified best hyperparameters and scaling technique.\n",
    "\n",
    "# Setting up the pipeline with the best scaling method and classifier from Part 3\n",
    "\n",
    "best_pipeline = Pipeline([\n",
    "    ('scaler', StandardScaler()),  # Normalization using StandardScaler as determined optimal in Part 3\n",
    "    ('classifier', SVC(C=1, kernel='linear')) # SVM classifier with best parameters (C=1, linear kernel)\n",
    "])\n",
    "\n",
    "# Retraining the model on the entire training dataset\n",
    "# This step maximizes the learning from all available data before final testing.\n",
    "\n",
    "best_pipeline.fit(X_train, y_train)\n",
    "display(Markdown(\"**Training complete with the best combination of feature engineering and hyperparameters.**\"))"
   ]
  },
  {
   "cell_type": "code",
   "execution_count": null,
   "id": "c0fc460d",
   "metadata": {},
   "outputs": [],
   "source": []
  },
  {
   "cell_type": "code",
   "execution_count": null,
   "id": "064ad0a0",
   "metadata": {},
   "outputs": [],
   "source": []
  },
  {
   "cell_type": "markdown",
   "id": "259ab902",
   "metadata": {},
   "source": [
    "## Part 5 - Apply on test and show model performance estimation"
   ]
  },
  {
   "cell_type": "code",
   "execution_count": 82,
   "id": "d9971aa5",
   "metadata": {},
   "outputs": [
    {
     "data": {
      "text/markdown": [
       "#### First 5 predictions on the test set:\n"
      ],
      "text/plain": [
       "<IPython.core.display.Markdown object>"
      ]
     },
     "metadata": {},
     "output_type": "display_data"
    },
    {
     "name": "stdout",
     "output_type": "stream",
     "text": [
      "[0 1 0 1 0]\n"
     ]
    },
    {
     "data": {
      "text/markdown": [
       "#### Classification report on the test set:"
      ],
      "text/plain": [
       "<IPython.core.display.Markdown object>"
      ]
     },
     "metadata": {},
     "output_type": "display_data"
    },
    {
     "name": "stdout",
     "output_type": "stream",
     "text": [
      "              precision    recall  f1-score   support\n",
      "\n",
      "      Benign       1.00      0.93      0.96       178\n",
      "   Malignant       0.96      1.00      0.98       277\n",
      "\n",
      "    accuracy                           0.97       455\n",
      "   macro avg       0.98      0.96      0.97       455\n",
      "weighted avg       0.97      0.97      0.97       455\n",
      "\n"
     ]
    }
   ],
   "source": [
    "# Part 5: Apply on Test Set and Model Performance Estimation\n",
    "# Using the trained model to predict and evaluate its performance on a separate test set.\n",
    "\n",
    "# Separating input features and the target variable from the test dataset\n",
    "\n",
    "X_test = test_df.drop(columns=['target'])\n",
    "y_test = test_df['target']\n",
    "\n",
    "# Making predictions on the test dataset using the trained model\n",
    "\n",
    "y_pred = best_pipeline.predict(X_test)\n",
    "\n",
    "# Displaying the first five predictions to get a quick insight into the model's performance\n",
    "\n",
    "display(Markdown(\"#### First 5 predictions on the test set:\\n\"))\n",
    "print(y_pred[:5])\n",
    "\n",
    "# Generating a classification report to evaluate the model\n",
    "# This report includes metrics such as precision, recall, and f1-score which help to understand the model's effectiveness.\n",
    "\n",
    "from sklearn.metrics import classification_report\n",
    "\n",
    "display(Markdown(\"#### Classification report on the test set:\"))\n",
    "print(classification_report(y_test, y_pred, target_names=['Benign', 'Malignant']))"
   ]
  },
  {
   "cell_type": "code",
   "execution_count": null,
   "id": "00d8aa96",
   "metadata": {},
   "outputs": [],
   "source": []
  },
  {
   "cell_type": "code",
   "execution_count": null,
   "id": "409c3cee",
   "metadata": {},
   "outputs": [],
   "source": []
  }
 ],
 "metadata": {
  "kernelspec": {
   "display_name": "Python 3 (ipykernel)",
   "language": "python",
   "name": "python3"
  },
  "language_info": {
   "codemirror_mode": {
    "name": "ipython",
    "version": 3
   },
   "file_extension": ".py",
   "mimetype": "text/x-python",
   "name": "python",
   "nbconvert_exporter": "python",
   "pygments_lexer": "ipython3",
   "version": "3.7.1"
  }
 },
 "nbformat": 4,
 "nbformat_minor": 5
}
